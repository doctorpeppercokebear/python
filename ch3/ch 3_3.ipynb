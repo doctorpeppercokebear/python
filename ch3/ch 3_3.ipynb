{
 "cells": [
  {
   "cell_type": "markdown",
   "metadata": {},
   "source": [
    "## 3.3 변수로 연산하기"
   ]
  },
  {
   "cell_type": "code",
   "execution_count": 2,
   "metadata": {},
   "outputs": [
    {
     "name": "stdout",
     "output_type": "stream",
     "text": [
      "14\n"
     ]
    }
   ],
   "source": [
    "number = 2 + 3 * 4\n",
    "print(number)"
   ]
  },
  {
   "cell_type": "markdown",
   "metadata": {},
   "source": [
    "위 식에서 2를 더하려면"
   ]
  },
  {
   "cell_type": "code",
   "execution_count": 2,
   "metadata": {},
   "outputs": [
    {
     "name": "stdout",
     "output_type": "stream",
     "text": [
      "16\n"
     ]
    }
   ],
   "source": [
    "number = 2 + 3 * 4 +2\n",
    "print(number)"
   ]
  },
  {
   "cell_type": "code",
   "execution_count": 3,
   "metadata": {},
   "outputs": [
    {
     "name": "stdout",
     "output_type": "stream",
     "text": [
      "18\n"
     ]
    }
   ],
   "source": [
    "# 코드를 간결하게 하면\n",
    "number2 = number + 2\n",
    "print(number2)"
   ]
  },
  {
   "cell_type": "markdown",
   "metadata": {
    "slideshow": {
     "slide_type": "notes"
    },
    "tags": [
     "parameters"
    ]
   },
   "source": [
    "* 코드를 한번 더 줄이려면  \n",
    "대입 연산자와 산술 연산자를 합친 복합 대입 연산자를 사용하면 된다.  \n",
    "\n",
    "|연산자  |의미                                                            |예시  \n",
    "|--|--|--|\n",
    "|+=      |연산자 왼쪽 값에 오른쪽 값을 더한 후 왼쪽 값에 대입             |number = number + 2 -> number += 2  \n",
    "|-=      |연산자 왼쪽 값에서 오른쪽 값을 뺀 후 왼쪽 값에 대입             |number = number - 2 -> number -= 2  \n",
    "|*=      |연산자 왼쪽 값에 오른쪽 값을 곱한 후 왼쪽 값에 대입             |number = number * 2 -> number *= 2  \n",
    "|/=      |연산자 왼쪽 값을 오른쪽 값으로 나눈 후 왼쪽 값에 대입           |number = number / 2 -> number /= 2  \n",
    "|**=     |연산자 왼쪽 값을 오른쪽 값으로 거듭제곱한 후 왼쪽 값에 대입     |number = number ** 2 -> number **= 2  \n",
    "|//=     |연산자 왼쪽 값을 오른쪽 값으로 나눈 후 몫을 왼쪽 값에 대입      |number = number // 2 -> number //= 2  \n",
    "|%=      |연산자 왼쪽 값을 오른쪽 값으로 나눈 후 나머지를 왼쪽 갑에 대입  |number = number % 2 -> number %= 2  "
   ]
  },
  {
   "cell_type": "code",
   "execution_count": 4,
   "metadata": {},
   "outputs": [
    {
     "name": "stdout",
     "output_type": "stream",
     "text": [
      "18\n"
     ]
    }
   ],
   "source": [
    "number += 2  # number2 = number + 2 와 동일함\n",
    "print(number)"
   ]
  },
  {
   "cell_type": "code",
   "execution_count": 5,
   "metadata": {},
   "outputs": [
    {
     "name": "stdout",
     "output_type": "stream",
     "text": [
      "16\n",
      "32\n",
      "16.0\n",
      "256.0\n"
     ]
    }
   ],
   "source": [
    "number -=2 # number = number - 2 와 같음\n",
    "print(number)\n",
    "\n",
    "number *= 2 # number = number * 2 와 같음\n",
    "print(number)\n",
    "\n",
    "number /= 2 # number = number * 2 와 같음\n",
    "print(number)\n",
    "\n",
    "number **= 2 # number = number ** 2 와 동일\n",
    "print(number)"
   ]
  },
  {
   "cell_type": "code",
   "execution_count": null,
   "metadata": {},
   "outputs": [],
   "source": []
  }
 ],
 "metadata": {
  "kernelspec": {
   "display_name": "Python 3",
   "language": "python",
   "name": "python3"
  },
  "language_info": {
   "codemirror_mode": {
    "name": "ipython",
    "version": 3
   },
   "file_extension": ".py",
   "mimetype": "text/x-python",
   "name": "python",
   "nbconvert_exporter": "python",
   "pygments_lexer": "ipython3",
   "version": "3.11.0"
  }
 },
 "nbformat": 4,
 "nbformat_minor": 2
}
