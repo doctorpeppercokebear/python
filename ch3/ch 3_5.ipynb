{
 "cells": [
  {
   "cell_type": "markdown",
   "metadata": {},
   "source": [
    "## 3.5 실습 문제: 스터디 날짜 정하기\n",
    "\n",
    "문제:  \n",
    "코딩 스터디 모임을 만들었습니다. 월4번 모이는데, 3번은 온라인으로, 1번은 오프라인으로 모이기로 했습니다.  \n",
    " 조건에 맞는 오프라인 모임 날짜를 정하는 프로그램을 작성하세요"
   ]
  },
  {
   "cell_type": "markdown",
   "metadata": {},
   "source": [
    "조건\n",
    "1. 날짜를 무작위로 뽑는다.\n",
    "2. 월별 일수가 다르므로 최소 일수인 28일 이내로 정한다(28일 까지만 날짜 선정.)\n",
    "3. 매월 1 ~ 3 일은 스터디를 준비해야 하므로 제외한다.\n",
    "4. 실행결과는 다음과 같은 형태로 나와야 한다. 단, 날짜는 무작위 이므로 책과 결과가 다를 수 있다."
   ]
  },
  {
   "cell_type": "markdown",
   "metadata": {},
   "source": [
    "\n",
    "|실행결과| \n",
    "|--|\n",
    "|오프라인 스터디 모임 날짜는 매월 18일로 선정되었습니다.|"
   ]
  },
  {
   "cell_type": "code",
   "execution_count": 5,
   "metadata": {},
   "outputs": [
    {
     "name": "stdout",
     "output_type": "stream",
     "text": [
      "오프라인 스터디 모임 날짜는 매월24일로 선정되었습니다.\n"
     ]
    }
   ],
   "source": [
    "from random import *\n",
    "\n",
    "days = randint(4, 28)\n",
    "print(\"오프라인 스터디 모임 날짜는 매월\" + str(days) + \"일로 선정되었습니다.\")\n",
    "# + 연산자로 정수형과 문자열을 연결할 수 없기에 문자열로 바꿔주는 str함수를 이용하여 형변환을 진행해야 한다."
   ]
  },
  {
   "cell_type": "code",
   "execution_count": null,
   "metadata": {},
   "outputs": [],
   "source": []
  }
 ],
 "metadata": {
  "kernelspec": {
   "display_name": "Python 3",
   "language": "python",
   "name": "python3"
  },
  "language_info": {
   "codemirror_mode": {
    "name": "ipython",
    "version": 3
   },
   "file_extension": ".py",
   "mimetype": "text/x-python",
   "name": "python",
   "nbconvert_exporter": "python",
   "pygments_lexer": "ipython3",
   "version": "3.11.0"
  }
 },
 "nbformat": 4,
 "nbformat_minor": 2
}
