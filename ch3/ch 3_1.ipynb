{
 "cells": [
  {
   "cell_type": "markdown",
   "metadata": {},
   "source": [
    "## 3.1 연산자의 종류\n",
    "* 연산자는 프로그래밍에서 연산할 때 사용하는 기호이다."
   ]
  },
  {
   "cell_type": "markdown",
   "metadata": {},
   "source": [
    "### 3.1.1 연산자의 종류\n",
    "* 사칙연산 기호는 수를 연산하는 데 사용해서 산술연산자라고 한다.\n",
    "\n",
    "1: + 연산자 왼쪽과 오른쪽 더하기  \n",
    "2: - 연산자 왼쪽에서 오른쪽 빼기  \n",
    "3: * 연산자 왼쪽과 오른쪽 곱하기  \n",
    "4: / 연산자 왼쪽을 오른족으로 나누기  "
   ]
  },
  {
   "cell_type": "code",
   "execution_count": 4,
   "metadata": {},
   "outputs": [
    {
     "name": "stdout",
     "output_type": "stream",
     "text": [
      "2\n",
      "1\n",
      "10\n",
      "2.0\n"
     ]
    }
   ],
   "source": [
    "print(1 + 1)\n",
    "print(3 - 2)\n",
    "print(5 * 2)\n",
    "print(6 / 3) # 실수로 출력, 정수로 출력을 하려면 // 사용"
   ]
  },
  {
   "cell_type": "code",
   "execution_count": 3,
   "metadata": {},
   "outputs": [
    {
     "name": "stdout",
     "output_type": "stream",
     "text": [
      "8\n",
      "1\n",
      "3\n"
     ]
    }
   ],
   "source": [
    "print( 2 ** 3)  # ** : 거듭제곱\n",
    "print( 10 % 3)  # % : 연산자 앞의 수를 뒤의 수로 나눈 나머지\n",
    "print( 10 // 3) # // : 연산자 앞의 수를 뒤의 수로 나눈 몫"
   ]
  },
  {
   "cell_type": "markdown",
   "metadata": {},
   "source": [
    "** : 연산자 왼쪽을 오른쪽만큼 거듭제곱  \n",
    "%  : 연산자 왼쪽을 오른쪽으로 나눈 나머지  \n",
    "// : 연산자 왼쪽을 오른쪽으로 나눈 몫  "
   ]
  },
  {
   "cell_type": "markdown",
   "metadata": {},
   "source": [
    "#### 3.1.2 비교 연산자\n",
    "* (>, >=, <, <= >) 와 같이 깉은 기호로 비교연산을 수행하는 것을 비교연산자라고 한다.  \n",
    "* 비교 연산자는 산술 연산자와 달리 값을 계산하지 않고 값을 비교한다. 값을 비교해 맞으면 True, 틀리면 False 로 출력한다.   \n",
    "1 >  : 연산자 왼쪽이 오른쪽보다 큼  \n",
    "2 >= : 연산자 왼쪽이 오른ㅉ고보다 크거나 같음  \n",
    "3 <  : 연산자 왼쪽이 오른쪽보다 작음  \n",
    "4 <= : 연산자 왼쪽이 오른쪽보다 작거나 같음  "
   ]
  },
  {
   "cell_type": "code",
   "execution_count": 5,
   "metadata": {},
   "outputs": [
    {
     "name": "stdout",
     "output_type": "stream",
     "text": [
      "True\n",
      "False\n",
      "False\n",
      "True\n"
     ]
    }
   ],
   "source": [
    "print(10 > 3)\n",
    "print(4 >= 7)\n",
    "print(10 < 3)\n",
    "print(5 <= 5)"
   ]
  },
  {
   "cell_type": "markdown",
   "metadata": {},
   "source": [
    "같다는 의미를 나타내려면 등호를 2번 사용하여 == 형태로 표시, 다르다는 의미를 표현할 때는 != 로 표시\n",
    "\n",
    "* == : 연산자 왼쪽과 오른쪽이 같음  \n",
    "* != : 연산자 왼쪽과 오른쪽이 다름  "
   ]
  },
  {
   "cell_type": "code",
   "execution_count": 6,
   "metadata": {},
   "outputs": [
    {
     "name": "stdout",
     "output_type": "stream",
     "text": [
      "True\n",
      "False\n",
      "True\n",
      "True\n"
     ]
    }
   ],
   "source": [
    "print(3 == 3)\n",
    "print(4 == 2)\n",
    "print(3 + 4 == 7) \n",
    "print(1 != 3)"
   ]
  },
  {
   "cell_type": "markdown",
   "metadata": {},
   "source": [
    "### 3.1.4 논리연산자\n",
    "* 논리연산자는 수식, 조건 등이 참인지 거짓인지 판단할 때 사용한다. not연산자를 포함해 파이썬에서 사용하는 논리 연산자는 밑 에 와 같다.  \n",
    "\n",
    "and : 연산자 왼쪽과 오른쪽이 모두 참이면 참  \n",
    "or  : 연산자 왼쪽과 오른쪽 중 하나라도 참이면 참  \n",
    "not : 값이 참이면 거짓, 거짓이면 참  "
   ]
  },
  {
   "cell_type": "markdown",
   "metadata": {},
   "source": [
    "### "
   ]
  },
  {
   "cell_type": "code",
   "execution_count": 7,
   "metadata": {},
   "outputs": [
    {
     "name": "stdout",
     "output_type": "stream",
     "text": [
      "False\n",
      "True\n",
      "False\n"
     ]
    }
   ],
   "source": [
    "print((3 > 0) and (3 > 5)) # 두개 다 참이여야 하는데 한개만 참이여서 False\n",
    "print((3 > 0) or (3 >5))   # 한개만 참이여도 True이니까 True\n",
    "print(not(1 != 3))         # 결과를 부정하니까 1과 3은 다르다 는 True이지만 참을 부정하므로 False이다."
   ]
  },
  {
   "cell_type": "markdown",
   "metadata": {},
   "source": [
    "#### 단축평가  \n",
    "논리 연산자에서 and와 or는 앞의 연산 결과에 따라 두의 연산이 수행되지 않을 수 있는데, 이를 단축평가라고 한다.  \n",
    "- and 연산자는 앞뒤 연산이 모두 참일 때 True가 된다.  \n",
    "- or  연산자는 앞뒤 연산 중 하나라도 참일 때 True가 되는데 앞의 연산이 이미 True 라면 뒤의 연산은 하지 않아도 상관없으므로 수행되지 않는다.\n"
   ]
  },
  {
   "cell_type": "code",
   "execution_count": 2,
   "metadata": {},
   "outputs": [
    {
     "name": "stdout",
     "output_type": "stream",
     "text": [
      "True\n",
      "False\n"
     ]
    }
   ],
   "source": [
    "print(5 > 4 > 3)\n",
    "print(4 > 5 > 3)"
   ]
  },
  {
   "cell_type": "code",
   "execution_count": null,
   "metadata": {},
   "outputs": [],
   "source": []
  }
 ],
 "metadata": {
  "kernelspec": {
   "display_name": "Python 3",
   "language": "python",
   "name": "python3"
  },
  "language_info": {
   "codemirror_mode": {
    "name": "ipython",
    "version": 3
   },
   "file_extension": ".py",
   "mimetype": "text/x-python",
   "name": "python",
   "nbconvert_exporter": "python",
   "pygments_lexer": "ipython3",
   "version": "3.11.0"
  }
 },
 "nbformat": 4,
 "nbformat_minor": 2
}
