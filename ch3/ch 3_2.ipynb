{
 "cells": [
  {
   "cell_type": "markdown",
   "metadata": {},
   "source": [
    "## 3.2 연산자의 우선순위"
   ]
  },
  {
   "cell_type": "code",
   "execution_count": 1,
   "metadata": {},
   "outputs": [
    {
     "name": "stdout",
     "output_type": "stream",
     "text": [
      "14\n",
      "20\n"
     ]
    }
   ],
   "source": [
    "print(2 + 3 * 4)\n",
    "print((2 + 3) * 4)"
   ]
  },
  {
   "cell_type": "markdown",
   "metadata": {},
   "source": [
    "위 두 수식은 파이썬 연산자 우선순위 때문에 결과가 다르게 나오는 걸 확인할 수 있다.   \n",
    "이처럼 연산자를 사용할 때는 우선순위에 따라 연산 순서가 달라지므로 연산자의 우선순위를 확인해야 한다."
   ]
  },
  {
   "cell_type": "markdown",
   "metadata": {
    "slideshow": {
     "slide_type": "skip"
    }
   },
   "source": [
    "우선순위\n",
    "  높음      [],{},()                    리스트, 딕셔너리, 세트, 튜플\n",
    "            **                          거듭제곱\n",
    "            *, /, //, %                 곱셈, 나눗셈, 정수 나눗셈, 나머지\n",
    "            +, -                        덧셈, 뺄셈\n",
    "            not, in, <,<=,>= >, !=, ==  부정, 비교연산자\n",
    "            and, or                     논리 연산자\n",
    "  낮음      =                           대입 연산자  \n"
   ]
  }
 ],
 "metadata": {
  "kernelspec": {
   "display_name": "Python 3",
   "language": "python",
   "name": "python3"
  },
  "language_info": {
   "codemirror_mode": {
    "name": "ipython",
    "version": 3
   },
   "file_extension": ".py",
   "mimetype": "text/x-python",
   "name": "python",
   "nbconvert_exporter": "python",
   "pygments_lexer": "ipython3",
   "version": "3.11.0"
  }
 },
 "nbformat": 4,
 "nbformat_minor": 2
}
