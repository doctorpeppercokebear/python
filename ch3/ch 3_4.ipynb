{
 "cells": [
  {
   "cell_type": "markdown",
   "metadata": {},
   "source": [
    "## 3.4 함수로 연산하기"
   ]
  },
  {
   "cell_type": "markdown",
   "metadata": {},
   "source": [
    "### 3.4.1 숫자 처리 함수"
   ]
  },
  {
   "cell_type": "markdown",
   "metadata": {},
   "source": [
    "|함수 |의미        \n",
    "|--|--|\n",
    "|abs(x)|x의 절대값|\n",
    "|pow(x)|x를 Y만큼 거듭제곱한 값|\n",
    "|max()|가장 큰 값|\n",
    "|min(x)|가장 작은 값|\n",
    "|round(x, d)|x를 반올림한 값, d는 표시할 소수점 이하 자릿수, d가 없으면 소수점 이하 첫째 자리에서 반올림한 정수|"
   ]
  },
  {
   "cell_type": "code",
   "execution_count": 5,
   "metadata": {},
   "outputs": [
    {
     "name": "stdout",
     "output_type": "stream",
     "text": [
      "5\n",
      "16\n",
      "12\n",
      "5\n",
      "3\n",
      "4.69\n"
     ]
    }
   ],
   "source": [
    "print(abs(-5)) # -5 의 절대값\n",
    "print(pow(4, 2)) # 4를 제곱한 값\n",
    "print(max(5, 12)) # 5 와 12 중 큰 값\n",
    "print(min(5, 12)) # 5 와 12 중 작은 값\n",
    "print(round(3.14)) # 3.14를 소수점 이하 첫쨰 자리에서 반올림한 정수\n",
    "print(round(4.687, 2)) # 4.698을 소수점 이하 셋째 자리에서 반올림한 값"
   ]
  },
  {
   "cell_type": "markdown",
   "metadata": {},
   "source": [
    "### 3.4.2 math 모듈\n",
    "* 숫자 연산을 수행하는 함수는 다음과 같이 math 모듈에도 있다."
   ]
  },
  {
   "cell_type": "markdown",
   "metadata": {},
   "source": [
    "|함수 |의미        \n",
    "|--|--|\n",
    "|floor()|내림|\n",
    "|ceil()|올림|\n",
    "|sqrt()|제곱근|"
   ]
  },
  {
   "cell_type": "markdown",
   "metadata": {},
   "source": [
    "* 모듈은 어떤 기능을 하는 코드를 모아 놓은 파이썬 파일을 의미한다.\n",
    " - 직접 만들 수 있고, 모듈을 가져와서 사용 할 수 있다.\n",
    "\n",
    " 형식 : from 모듈명 import 기능\n",
    "\n",
    " 기능 부분에 * 를 넣으면 모듈 안 모든 기능을 가져다 쓰겠따는 의미 "
   ]
  },
  {
   "cell_type": "code",
   "execution_count": 8,
   "metadata": {},
   "outputs": [
    {
     "name": "stdout",
     "output_type": "stream",
     "text": [
      "4\n",
      "4\n",
      "4.0\n"
     ]
    }
   ],
   "source": [
    "from math import *\n",
    "\n",
    "result = floor(4.99)\n",
    "print(result)  # 4.99의 내림\n",
    "\n",
    "result2 = ceil(3.14)\n",
    "print(result2) # 3.14의 올림\n",
    "\n",
    "result3 = sqrt(16)\n",
    "print(result3) # 16의 제곱근"
   ]
  },
  {
   "cell_type": "markdown",
   "metadata": {},
   "source": [
    " import  모듈명\n",
    "- 이 방법을 사용할 때는 기능 앞에 기능이 속한 모듈명을 점(.)으로 연결해서 적어야 한다."
   ]
  },
  {
   "cell_type": "code",
   "execution_count": 1,
   "metadata": {},
   "outputs": [
    {
     "name": "stdout",
     "output_type": "stream",
     "text": [
      "4\n",
      "4\n",
      "4.0\n"
     ]
    }
   ],
   "source": [
    "import math # math 모듈의 기능을 가져다 쓰겠다는 의미\n",
    "\n",
    "# math. 을 함께 작성\n",
    "\n",
    "result = math.floor(4.99)\n",
    "print(result) # 4.99의 내림\n",
    "\n",
    "result2 = math.ceil(3.14)\n",
    "print(result2) #3.14 의 올림\n",
    "\n",
    "result3 = math.sqrt(16)\n",
    "print(result3) # 16의 제곱근"
   ]
  },
  {
   "cell_type": "markdown",
   "metadata": {},
   "source": [
    "### 3.4.3 random 모듈\n",
    "* 무작위로 숫자를 뽑아 주는 함수이다.\n",
    "* 0 이상 1 미만 사이의 수를 출력한다.  \n",
    "즉, random 함수는 0이상 1 미만 에서 난수를 뽑는 기능이다"
   ]
  },
  {
   "cell_type": "code",
   "execution_count": 2,
   "metadata": {},
   "outputs": [
    {
     "name": "stdout",
     "output_type": "stream",
     "text": [
      "0.4896688484088404\n",
      "0.37745141195766607\n",
      "0.5186271133002451\n"
     ]
    }
   ],
   "source": [
    "from random import * \n",
    "\n",
    "print(random())\n",
    "print(random())\n",
    "print(random())"
   ]
  },
  {
   "cell_type": "code",
   "execution_count": 3,
   "metadata": {},
   "outputs": [
    {
     "name": "stdout",
     "output_type": "stream",
     "text": [
      "4.415807671097473\n",
      "1\n",
      "7\n"
     ]
    }
   ],
   "source": [
    "print(random() * 10)\n",
    "print(int(random() * 10))\n",
    "print(int(random() * 10 ) + 1)"
   ]
  },
  {
   "cell_type": "markdown",
   "metadata": {},
   "source": [
    "|코드 | 의미\n",
    "|--|--|\n",
    "|random() * 10|0.0 이상 10.0 미만에서 난수 생성|\n",
    "|int(random() * 10)|0.0 이상 10.0 미만 난수 생성(random() 결과를 int()로 감싸서 정수로 변환)|\n",
    "|int(random() * 10 ) + 1|1 이상 11미만 정수에서 난수 생성(random() 결과를 정수로 변환해 1을 더함)|\n",
    "\n",
    "\n"
   ]
  },
  {
   "cell_type": "code",
   "execution_count": 4,
   "metadata": {},
   "outputs": [
    {
     "name": "stdout",
     "output_type": "stream",
     "text": [
      "2\n"
     ]
    }
   ],
   "source": [
    "print(int(random() * 45 ) + 1)"
   ]
  },
  {
   "cell_type": "markdown",
   "metadata": {},
   "source": [
    "* random 모듈의 함수\n",
    "\n",
    "|함수 | 의미|\n",
    "|--|--|\n",
    "|randrange(시작 숫자, 끝 숫자)|주어진 범위 안에서 정수인 난수 생성(끝 숫자 미포함)|\n",
    "|randint(시작 숫자, 끝 숫자)|주어진 범위 안에서 정수인 난수 생성(끝 숫자 포함)|"
   ]
  },
  {
   "cell_type": "code",
   "execution_count": 5,
   "metadata": {},
   "outputs": [
    {
     "name": "stdout",
     "output_type": "stream",
     "text": [
      "37\n",
      "37\n"
     ]
    }
   ],
   "source": [
    "print(randrange(1, 46)) # 1 이상 46 미만에서 난수 생성\n",
    "print(randint(1, 45))   # 1 이상 45 이하에서 난수 생성"
   ]
  },
  {
   "cell_type": "markdown",
   "metadata": {},
   "source": []
  }
 ],
 "metadata": {
  "kernelspec": {
   "display_name": "Python 3",
   "language": "python",
   "name": "python3"
  },
  "language_info": {
   "codemirror_mode": {
    "name": "ipython",
    "version": 3
   },
   "file_extension": ".py",
   "mimetype": "text/x-python",
   "name": "python",
   "nbconvert_exporter": "python",
   "pygments_lexer": "ipython3",
   "version": "3.11.0"
  }
 },
 "nbformat": 4,
 "nbformat_minor": 2
}
