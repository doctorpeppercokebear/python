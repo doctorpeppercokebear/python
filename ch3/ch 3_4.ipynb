{
 "cells": [
  {
   "cell_type": "markdown",
   "metadata": {},
   "source": [
    "## 3.4 함수로 연산하기"
   ]
  },
  {
   "cell_type": "markdown",
   "metadata": {},
   "source": [
    "### 3.4.1 숫자 처리 함수"
   ]
  },
  {
   "cell_type": "markdown",
   "metadata": {},
   "source": [
    "|함수 |의미        \n",
    "|--|--|\n",
    "|abs(x)|x의 절대값|\n",
    "|pow(x)|x를 Y만큼 거듭제곱한 값|\n",
    "|max()|가장 큰 값|\n",
    "|min(x)|가장 작은 값|\n",
    "|round(x, d)|x를 반올림한 값, d는 표시할 소수점 이하 자릿수, d가 없으면 소수점 이하 첫째 자리에서 반올림한 정수|"
   ]
  },
  {
   "cell_type": "code",
   "execution_count": 5,
   "metadata": {},
   "outputs": [
    {
     "name": "stdout",
     "output_type": "stream",
     "text": [
      "5\n",
      "16\n",
      "12\n",
      "5\n",
      "3\n",
      "4.69\n"
     ]
    }
   ],
   "source": [
    "print(abs(-5)) # -5 의 절대값\n",
    "print(pow(4, 2)) # 4를 제곱한 값\n",
    "print(max(5, 12)) # 5 와 12 중 큰 값\n",
    "print(min(5, 12)) # 5 와 12 중 작은 값\n",
    "print(round(3.14)) # 3.14를 소수점 이하 첫쨰 자리에서 반올림한 정수\n",
    "print(round(4.687, 2)) # 4.698을 소수점 이하 셋째 자리에서 반올림한 값"
   ]
  },
  {
   "cell_type": "markdown",
   "metadata": {},
   "source": [
    "### 3.4.2 math 모듈\n",
    "* 숫자 연산을 수행하는 함수는 다음과 같이 math 모듈에도 있다."
   ]
  },
  {
   "cell_type": "markdown",
   "metadata": {},
   "source": [
    "|함수 |의미        \n",
    "|--|--|\n",
    "|floor()|내림|\n",
    "|ceil()|올림|\n",
    "|sqrt()|제곱근|"
   ]
  },
  {
   "cell_type": "markdown",
   "metadata": {},
   "source": [
    "* 모듈은 어떤 기능을 하는 코드를 모아 놓은 파이썬 파일을 의미한다.\n",
    " - 직접 만들 수 있고, 모듈을 가져와서 사용 할 수 있다.\n",
    "\n",
    " 형식 : from 모듈명 import 기능\n",
    "\n",
    " 기능 부분에 * 를 넣으면 모듈 안 모든 기능을 가져다 쓰겠따는 의미 "
   ]
  },
  {
   "cell_type": "code",
   "execution_count": 8,
   "metadata": {},
   "outputs": [
    {
     "name": "stdout",
     "output_type": "stream",
     "text": [
      "4\n",
      "4\n",
      "4.0\n"
     ]
    }
   ],
   "source": [
    "from math import *\n",
    "\n",
    "result = floor(4.99)\n",
    "print(result)  # 4.99의 내림\n",
    "\n",
    "result2 = ceil(3.14)\n",
    "print(result2) # 3.14의 올림\n",
    "\n",
    "result3 = sqrt(16)\n",
    "print(result3) # 16의 제곱근"
   ]
  },
  {
   "cell_type": "markdown",
   "metadata": {},
   "source": [
    " import  모듈명\n",
    "- 이 방법을 사용할 때는 기능 앞에 기능이 속한 모듈명을 점(.)으로 연결해서 적어야 한다."
   ]
  },
  {
   "cell_type": "code",
   "execution_count": null,
   "metadata": {},
   "outputs": [],
   "source": [
    "import math # math 모듈의 기능을 가져다 쓰겠다는 의미\n",
    "\n",
    "# math. 을 함께 작성\n",
    "\n",
    "result = math.floor(4.4)\n"
   ]
  },
  {
   "cell_type": "markdown",
   "metadata": {},
   "source": []
  }
 ],
 "metadata": {
  "kernelspec": {
   "display_name": "Python 3",
   "language": "python",
   "name": "python3"
  },
  "language_info": {
   "codemirror_mode": {
    "name": "ipython",
    "version": 3
   },
   "file_extension": ".py",
   "mimetype": "text/x-python",
   "name": "python",
   "nbconvert_exporter": "python",
   "pygments_lexer": "ipython3",
   "version": "3.11.0"
  }
 },
 "nbformat": 4,
 "nbformat_minor": 2
}
