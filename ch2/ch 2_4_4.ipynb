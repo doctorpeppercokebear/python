{
 "cells": [
  {
   "cell_type": "markdown",
   "metadata": {},
   "source": [
    "## 변수를 사용할 때 유의할 점\n",
    "* 변수는 사용하기 전에 정의한다.\n",
    "* 변수는 사용하기 전에 마지막으로 저장한 값을 사용한다."
   ]
  },
  {
   "cell_type": "code",
   "execution_count": 7,
   "metadata": {},
   "outputs": [
    {
     "name": "stdout",
     "output_type": "stream",
     "text": [
      "반려동물을 소개해 주세요\n",
      "우리 집 반려동물은개인데, 이름이연탄이예요.\n",
      "연탄이는 4살이고, 산책을 아주 좋아해요\n"
     ]
    }
   ],
   "source": [
    "# name변수를 정의하기 전에 print()문에서 사용하려고 해서 오류 발생\n",
    "animal = \"개\"\n",
    "age = 4\n",
    "hobby = \"산책\"\n",
    "\n",
    "print(\"반려동물을 소개해 주세요\")\n",
    "print(\"우리 집 반려동물은\" + animal + \"인데, 이름이\" + name + \"예요.\")\n",
    "name = \"연탄이\"\n",
    "print(name + \"는 \" + str(age) + \"살이고, \" + hobby + \"을 아주 좋아해요\") "
   ]
  },
  {
   "cell_type": "code",
   "execution_count": 8,
   "metadata": {},
   "outputs": [
    {
     "name": "stdout",
     "output_type": "stream",
     "text": [
      "반려동물을 소개해 주세요\n",
      "우리 집 반려동물은개인데, 이름이연탄이예요.\n",
      "연탄이는 4살이고, 수영을 아주 좋아해요\n"
     ]
    }
   ],
   "source": [
    "animal = \"개\"\n",
    "age = 4\n",
    "hobby = \"산책\"\n",
    "name = \"연탄이\"\n",
    "\n",
    "print(\"반려동물을 소개해 주세요\")\n",
    "print(\"우리 집 반려동물은\" + animal + \"인데, 이름이\" + name + \"예요.\")\n",
    "hobby = \"수영\"\n",
    "print(name + \"는 \" + str(age) + \"살이고, \" + hobby + \"을 아주 좋아해요\") "
   ]
  },
  {
   "cell_type": "markdown",
   "metadata": {},
   "source": [
    "# "
   ]
  },
  {
   "cell_type": "markdown",
   "metadata": {},
   "source": [
    "# 2.5 주석\n",
    "* 코드 부연설명 또는 필요없는 부분을 실행시키고 싶지 않을 때 사용\n",
    "* ctrl + / 누르면 주석 활성화 또는 코드 앞에 # 을 입력하면 주석 처리 할 수 있다. 또는 ctrl + k + c\n",
    "* shift 화살표로 여러줄 선택해서 주석처리 할 수 있다."
   ]
  },
  {
   "cell_type": "code",
   "execution_count": null,
   "metadata": {},
   "outputs": [],
   "source": [
    "animal = \"개\"\n",
    "age = 4\n",
    "hobby = \"산책\"\n",
    "name = \"연탄이\"\n",
    "\n",
    "print(\"반려동물을 소개해 주세요\")\n",
    "print(\"우리 집 반려동물은\" + animal + \"인데, 이름이\" + name + \"예요.\")\n",
    "hobby = \"수영\"\n",
    "print(name + \"는 \" + str(age) + \"살이고, \" + hobby + \"을 아주 좋아해요\") "
   ]
  }
 ],
 "metadata": {
  "kernelspec": {
   "display_name": "Python 3",
   "language": "python",
   "name": "python3"
  },
  "language_info": {
   "codemirror_mode": {
    "name": "ipython",
    "version": 3
   },
   "file_extension": ".py",
   "mimetype": "text/x-python",
   "name": "python",
   "nbconvert_exporter": "python",
   "pygments_lexer": "ipython3",
   "version": "3.11.4"
  }
 },
 "nbformat": 4,
 "nbformat_minor": 2
}
