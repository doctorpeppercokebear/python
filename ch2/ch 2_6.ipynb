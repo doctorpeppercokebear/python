{
 "cells": [
  {
   "cell_type": "markdown",
   "metadata": {},
   "source": [
    "## 실습문제: 역이름 출력하기\n",
    "\n",
    "문제: 변수를 사용해 다음 문장을 출력하세요\n",
    "조건\n",
    "1. 변수명은 statiion 으로 한다.\n",
    "2. 값은 변수에 '사당, 신도림, 인천공항' 순으로 저장한다.\n",
    "3. 실행결과는 다음과 같은 형태로 나와야 한다."
   ]
  },
  {
   "cell_type": "markdown",
   "metadata": {},
   "source": [
    "실행결과\n",
    "\n",
    "### 변수에 \"사당\"을 넣었을 때\n",
    "사당행 열차가 들어오고 있습니다.\n",
    "\n",
    "### 변수에 \"신도림\"을 넣었을 때\n",
    "신도림행 열차가 들어오고 있습니다.\n",
    "\n",
    "### 변수에 \"인천공항\"을 넣었을 때\n",
    "인천공항행 열차가 들어오고 있습니다."
   ]
  },
  {
   "cell_type": "code",
   "execution_count": 1,
   "metadata": {},
   "outputs": [
    {
     "name": "stdout",
     "output_type": "stream",
     "text": [
      "사당행 열차가 들어오고 있습니다.\n"
     ]
    }
   ],
   "source": [
    "station = \"사당\"\n",
    "print(station + \"행 열차가 들어오고 있습니다.\")"
   ]
  },
  {
   "cell_type": "code",
   "execution_count": 2,
   "metadata": {},
   "outputs": [
    {
     "name": "stdout",
     "output_type": "stream",
     "text": [
      "신도림행 열차가 들어오고 있습니다.\n"
     ]
    }
   ],
   "source": [
    "station = \"신도림\"\n",
    "print(station + \"행 열차가 들어오고 있습니다.\")"
   ]
  },
  {
   "cell_type": "code",
   "execution_count": 3,
   "metadata": {},
   "outputs": [
    {
     "name": "stdout",
     "output_type": "stream",
     "text": [
      "인천공항행 열차가 들어오고 있습니다.\n"
     ]
    }
   ],
   "source": [
    "station = \"인천공항\"\n",
    "print(station + \"행 열차가 들어오고 있습니다.\")"
   ]
  },
  {
   "cell_type": "code",
   "execution_count": 4,
   "metadata": {},
   "outputs": [
    {
     "name": "stdout",
     "output_type": "stream",
     "text": [
      "사당행 열차가 들어오고 있습니다.\n"
     ]
    }
   ],
   "source": [
    "# 또다른 방법\n",
    "# 필요한 변수가 있을 때 주석을 풀어서 실행하면 된다. \n",
    "\n",
    "station = \"사당\"\n",
    "# station = \"신도림\"\n",
    "# station = \"인천공항\"\n",
    "\n",
    "print(station + \"행 열차가 들어오고 있습니다.\")"
   ]
  },
  {
   "cell_type": "markdown",
   "metadata": {},
   "source": [
    "## 실습문제 2\n",
    "문제: 변수를 사용해 택배의 배송 상태를 안내하는 프로그램을 작성하세요.  \n",
    "조건\n",
    "1. 변수명은 status로 한다.\n",
    "2. 값은 변수에 '상품 준비, 배송 중, 배송완료' 순으로 저장한다.\n",
    "3. 실행결과는 다음과 같은 형태로 나와야한다.\n",
    "\n",
    "실행결과  \n",
    "1. 변수에 \"상품 준비\" 를 넣었을 때  \n",
    "주문상태 : 상품준비\n",
    "2. 변수에 \"배송 중\" 를 넣었을 때  \n",
    "주문상태 : 배송 중\n",
    "3. 변수에 \"배송 완료\" 를 넣었을 때  \n",
    "주문상태 : 배송 완료"
   ]
  },
  {
   "cell_type": "code",
   "execution_count": 6,
   "metadata": {},
   "outputs": [
    {
     "name": "stdout",
     "output_type": "stream",
     "text": [
      "주문상태:상품 준비\n"
     ]
    }
   ],
   "source": [
    "status = \"상품 준비\"\n",
    "# status = \"배송 중\"\n",
    "# status = \"배송 완료\"\n",
    "\n",
    "print(\"주문상태:\" + status)"
   ]
  },
  {
   "cell_type": "code",
   "execution_count": null,
   "metadata": {},
   "outputs": [],
   "source": []
  }
 ],
 "metadata": {
  "kernelspec": {
   "display_name": "Python 3",
   "language": "python",
   "name": "python3"
  },
  "language_info": {
   "codemirror_mode": {
    "name": "ipython",
    "version": 3
   },
   "file_extension": ".py",
   "mimetype": "text/x-python",
   "name": "python",
   "nbconvert_exporter": "python",
   "pygments_lexer": "ipython3",
   "version": "3.11.4"
  }
 },
 "nbformat": 4,
 "nbformat_minor": 2
}
