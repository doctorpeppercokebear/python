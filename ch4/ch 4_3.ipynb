{
 "cells": [
  {
   "cell_type": "markdown",
   "metadata": {},
   "source": [
    "## 4.3 함수로 문자열 처리하기\n"
   ]
  },
  {
   "cell_type": "markdown",
   "metadata": {},
   "source": [
    "| 함수| 의미 |\n",
    "| -- | -- | \n",
    "| lower() | 문자열을 소문자로 변환 | \n",
    "| upper() | 문자열을 대문자로 변환 | \n",
    "| islower() | 문자열이 소문자인지 확인 | \n",
    "| isupper() | 문자열이 대문자인지 확인 | \n",
    "| replace | 문자열 바꾸기 | \n",
    "| index() | 찾는 문자열의 인덱스(없으면오류 발생) | \n",
    "| find() | 찾는 문자열의 인덱스(없으면 -1 반환) | \n",
    "| count() | 문자열이 나온 횟수 | "
   ]
  },
  {
   "cell_type": "markdown",
   "metadata": {},
   "source": [
    "* 형식  \n",
    "#### 문자열(또는 변수).함수()"
   ]
  },
  {
   "cell_type": "code",
   "execution_count": 1,
   "metadata": {},
   "outputs": [
    {
     "name": "stdout",
     "output_type": "stream",
     "text": [
      "python is amazing\n",
      "PYTHON IS AMAZING\n",
      "True\n",
      "True\n",
      "Java is Amazing\n"
     ]
    }
   ],
   "source": [
    "python = \"Python is Amazing\"\n",
    "\n",
    "print(python.lower()) # 전체 소문자로 변환\n",
    "print(python.upper()) # 전체 대문자로 변환\n",
    "print(python[0].isupper()) # 인덱스 0에 있는 값이 대문자 인지 확인\n",
    "print(python[1:3].islower()) # 인덱스 1부터 2에 있는 값이 소문자인지 확인\n",
    "print(python.replace(\"Python\", \"Java\")) # Python을 Java로 바꾸기"
   ]
  },
  {
   "cell_type": "markdown",
   "metadata": {},
   "source": [
    "find , index 함수 : 어떤 문자가 문자열의 어느 위치에 있는지 찾는 함수\n",
    "\n",
    "* find(찾는 문자, 시작 인덱스, 종료 인덱스)  \n",
    "* index(찾는 문자, 시작 인덱스, 종료 인덱스)"
   ]
  },
  {
   "cell_type": "code",
   "execution_count": 8,
   "metadata": {},
   "outputs": [
    {
     "name": "stdout",
     "output_type": "stream",
     "text": [
      "5\n",
      "15\n",
      "-1\n",
      "5\n",
      "15\n",
      "5\n"
     ]
    }
   ],
   "source": [
    "python = \"Python is Amazing\"\n",
    "\n",
    "find = python.find(\"n\") # 처음 발견한 n의 인덱스\n",
    "print(find)\n",
    "\n",
    "find = python.find(\"n\", find + 1) # 인덱스 6 이후부터 찾아 처음 발견한 n의 인덱스\n",
    "print(find) # is Amazing  에서 n(인덱스 15)\n",
    "\n",
    "find = python.find(\"Java\") # Java가 없으면 -1을 반환 후 프로그램 계속 수행\n",
    "print(find)\n",
    "\n",
    "index = python.index(\"n\") # 처음 발견한 n의 인덱스\n",
    "print(index)\n",
    "\n",
    "index = python.index(\"n\", index + 1)\n",
    "print(index)\n",
    "\n",
    "index = python.index(\"n\", 2, 6) # 인덱스 2 부터 6 직전까지 찾아 처음 발견한 n의 인덱스\n",
    "print(index)\n",
    "\n",
    "# index = python.index(\"Java\")   # Java 가 없으면 오류 발생\n",
    "# print(index)"
   ]
  },
  {
   "cell_type": "code",
   "execution_count": null,
   "metadata": {},
   "outputs": [],
   "source": []
  }
 ],
 "metadata": {
  "kernelspec": {
   "display_name": "Python 3",
   "language": "python",
   "name": "python3"
  },
  "language_info": {
   "codemirror_mode": {
    "name": "ipython",
    "version": 3
   },
   "file_extension": ".py",
   "mimetype": "text/x-python",
   "name": "python",
   "nbconvert_exporter": "python",
   "pygments_lexer": "ipython3",
   "version": "3.11.0"
  }
 },
 "nbformat": 4,
 "nbformat_minor": 2
}
