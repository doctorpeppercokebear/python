{
 "cells": [
  {
   "cell_type": "markdown",
   "source": [
    "# 문자열"
   ],
   "metadata": {
    "collapsed": false
   }
  },
  {
   "cell_type": "markdown",
   "source": [
    "### 문자열 포메팅"
   ],
   "metadata": {
    "collapsed": false
   }
  },
  {
   "cell_type": "code",
   "execution_count": 2,
   "metadata": {
    "collapsed": true,
    "ExecuteTime": {
     "end_time": "2024-02-25T09:24:19.811114500Z",
     "start_time": "2024-02-25T09:24:19.799112600Z"
    }
   },
   "outputs": [
    {
     "name": "stdout",
     "output_type": "stream",
     "text": [
      "나는 20살 입니다.\n",
      "나는 파이썬d을 좋아합니다.\n",
      "Apple은 A로 시작해요\n",
      "나는20 살 입니다.\n"
     ]
    }
   ],
   "source": [
    "print(\"나는 %d살 입니다.\" %20)\n",
    "\n",
    "print(\"나는 %sd을 좋아합니다.\" % \"파이썬\")\n",
    "\n",
    "print(\"Apple은 %c로 시작해요\" %\"A\")\n",
    "\n",
    "print(\"나는%s 살 입니다.\" % 20) # %s로도 정숫값 표현 가능"
   ]
  },
  {
   "cell_type": "code",
   "execution_count": 3,
   "outputs": [
    {
     "name": "stdout",
     "output_type": "stream",
     "text": [
      "나는 파란 색과 빨간 색을 좋아해요\n"
     ]
    }
   ],
   "source": [
    "print(\"나는 %s 색과 %s 색을 좋아해요\" % (\"파란\", \"빨간\")) # 값이 여럿일 때"
   ],
   "metadata": {
    "collapsed": false,
    "ExecuteTime": {
     "end_time": "2024-02-25T09:26:48.613538300Z",
     "start_time": "2024-02-25T09:26:48.602537Z"
    }
   }
  },
  {
   "cell_type": "markdown",
   "source": [],
   "metadata": {
    "collapsed": false
   }
  },
  {
   "cell_type": "markdown",
   "source": [
    "### format() 함수 이용"
   ],
   "metadata": {
    "collapsed": false
   }
  },
  {
   "cell_type": "code",
   "execution_count": 5,
   "outputs": [
    {
     "name": "stdout",
     "output_type": "stream",
     "text": [
      "나는 파란살 입니다.\n",
      "나는 파란색과 빨간색을 좋아 해요\n",
      "나는 빨간색과 파란색을 좋아해요\n"
     ]
    }
   ],
   "source": [
    "print(\"나는 {}살 입니다.\".format(\"파란\", \"빨간\"))\n",
    "\n",
    "print(\"나는 {0}색과 {1}색을 좋아 해요\".format(\"파란\", \"빨간\"))\n",
    "\n",
    "print(\"나는 {1}색과 {0}색을 좋아해요\".format(\"파란\", \"빨간\"))"
   ],
   "metadata": {
    "collapsed": false,
    "ExecuteTime": {
     "end_time": "2024-02-25T09:43:30.774936500Z",
     "start_time": "2024-02-25T09:43:30.761933200Z"
    }
   }
  },
  {
   "cell_type": "code",
   "execution_count": null,
   "outputs": [],
   "source": [],
   "metadata": {
    "collapsed": false
   }
  }
 ],
 "metadata": {
  "kernelspec": {
   "display_name": "Python 3",
   "language": "python",
   "name": "python3"
  },
  "language_info": {
   "codemirror_mode": {
    "name": "ipython",
    "version": 2
   },
   "file_extension": ".py",
   "mimetype": "text/x-python",
   "name": "python",
   "nbconvert_exporter": "python",
   "pygments_lexer": "ipython2",
   "version": "2.7.6"
  }
 },
 "nbformat": 4,
 "nbformat_minor": 0
}
