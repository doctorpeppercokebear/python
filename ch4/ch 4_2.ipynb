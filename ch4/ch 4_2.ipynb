{
 "cells": [
  {
   "cell_type": "markdown",
   "metadata": {},
   "source": [
    "## 4.2 원하는 만큼 문자열 자르기: 슬라이승\n"
   ]
  },
  {
   "cell_type": "markdown",
   "metadata": {},
   "source": [
    "* 형식 : 변수명[인덱스]"
   ]
  },
  {
   "cell_type": "code",
   "execution_count": 2,
   "metadata": {},
   "outputs": [
    {
     "name": "stdout",
     "output_type": "stream",
     "text": [
      "성별 식별번호:1\n"
     ]
    }
   ],
   "source": [
    "# 인덱스는 1이 아닌 0부터 시작한다.\n",
    "#        12345678910111213 \n",
    "jumin = \"990229-1234567\"\n",
    "print(\"성별 식별번호:\" + jumin[7])"
   ]
  },
  {
   "cell_type": "markdown",
   "metadata": {},
   "source": [
    "슬라이싱\n",
    "변수명[시작 인덱스 : 종료 인덱스] # 시작 인덱스 부터 종료 인덱스 직전까지"
   ]
  },
  {
   "cell_type": "code",
   "execution_count": 3,
   "metadata": {},
   "outputs": [
    {
     "name": "stdout",
     "output_type": "stream",
     "text": [
      "연99\n",
      "월02\n",
      "일29\n"
     ]
    }
   ],
   "source": [
    "print(\"연\" + jumin[0:2]) # 0 부터 2 직전까지(0, 1)\n",
    "print(\"월\" + jumin[2:4]) # 2 부터 4 직전까지(2, 3)\n",
    "print(\"일\" + jumin[4:6]) # 2 부터 4 직전까지(2, 3)\n"
   ]
  },
  {
   "cell_type": "markdown",
   "metadata": {},
   "source": [
    "슬라이싱 할 때 범위를 나타내는 시작 인덱스나 종료 인덱스를 비워 두면, 비원 둔 위치에 따라 슬라이싱 범위가 달라진다.\n",
    "\n",
    "* 변수명[:종료 인덱스] -> 처음부터 종료 인덱스 직전까지 슬라이싱\n",
    "* 변수명[시작 인덱스:] -> 시작 인덱스 부터 끝까지 슬라시이\n",
    "* 변수명[:]            -> 처음부터 끝까지 슬라이싱"
   ]
  },
  {
   "cell_type": "code",
   "execution_count": 4,
   "metadata": {},
   "outputs": [
    {
     "name": "stdout",
     "output_type": "stream",
     "text": [
      "생년월일:990229\n",
      "주민번호 뒷자리:1234567\n"
     ]
    }
   ],
   "source": [
    "print(\"생년월일:\" + jumin[:6]) # 처음부터 6 직전 까지 슬라이싱\n",
    "print(\"주민번호 뒷자리:\" + jumin[7:]) # 7부터 끝까지"
   ]
  },
  {
   "cell_type": "markdown",
   "metadata": {},
   "source": [
    "| 9 | 9 | 0 | 2 | 2 | 9 | - | 1 | 2 | 3 | 4 | 5 | 6 | 7 \n",
    "| -- | -- | -- | -- | -- | -- | -- | -- | -- | -- | -- | -- | -- | -- | \n",
    "| 0 | 1 | 2 | 3 | 4 | 5 | 6 | 7 | 8 | 9 | 10 | 11 | 12 | 13 |\n",
    "| -14 | -13 | -12 | -11 | -10 | -9 | -8 | -7 | -6 | -5 | -4 | -3 | -2 | -1 |\n"
   ]
  },
  {
   "cell_type": "code",
   "execution_count": 5,
   "metadata": {},
   "outputs": [
    {
     "name": "stdout",
     "output_type": "stream",
     "text": [
      "주민등록번호 뒷자리(뒤에서부터) :1234567\n"
     ]
    }
   ],
   "source": [
    "print(\"주민등록번호 뒷자리(뒤에서부터) :\" + jumin[-7:])"
   ]
  },
  {
   "cell_type": "code",
   "execution_count": null,
   "metadata": {},
   "outputs": [],
   "source": []
  }
 ],
 "metadata": {
  "kernelspec": {
   "display_name": "Python 3",
   "language": "python",
   "name": "python3"
  },
  "language_info": {
   "codemirror_mode": {
    "name": "ipython",
    "version": 3
   },
   "file_extension": ".py",
   "mimetype": "text/x-python",
   "name": "python",
   "nbconvert_exporter": "python",
   "pygments_lexer": "ipython3",
   "version": "3.11.0"
  }
 },
 "nbformat": 4,
 "nbformat_minor": 2
}
