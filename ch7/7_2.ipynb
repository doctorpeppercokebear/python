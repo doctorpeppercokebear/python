{
 "cells": [
  {
   "cell_type": "code",
   "execution_count": 5,
   "metadata": {},
   "outputs": [
    {
     "name": "stdout",
     "output_type": "stream",
     "text": [
      "새로운 계좌를 개설합니다.\n",
      "1000원을 입금했습니다. 잔액은 1000원 입니다.\n",
      "업무 시간 외에 500원을 출금했습니다.\n",
      "수수료 100원이며, 잔액은 400원입니다.\n"
     ]
    }
   ],
   "source": [
    "def open_account():\n",
    "    print(\"새로운 계좌를 개설합니다.\")\n",
    "\n",
    "open_account() # open_account 호출\n",
    "\n",
    "def deposit(balance, money):   # 입금 처리 함수, balance, money -> 매개변수 : 함수를 정의할 때 전달값을 받는 변수\n",
    "    print(\"{0}원을 입금했습니다. 잔액은 {1}원 입니다.\".format(money, balance + money))\n",
    "    return balance + money # 입금 후 잔액 정보 반환\n",
    "\n",
    "#출금하기\n",
    "def withdraw(balance ,money):  #  출금 처리 함수\n",
    "    if balance >= money:\n",
    "        print(\"{0}원을 출금했습니다. 잔액은 {1}원 입니다\".format(money, balance - money))\n",
    "        return balance - money # 출금 후 잔액 반환\n",
    "    else:\n",
    "        print(\"잔액이 부족합니다. 잔액은 {0}원 입니다.\".format(balance))\n",
    "        return balance # 기존 잔액 반환\n",
    "\n",
    "# 수수료 부가하기\n",
    "def withdraw_night(balance, money): # 업무 시간 왜 출금\n",
    "    commission = 100\n",
    "    print(\"업무 시간 외에 {}원을 출금했습니다.\".format(money))\n",
    "    return commission, balance - money - commission\n",
    "    # 튜플 -> 쉼표로 구분해 값을 여러개 적으면 함수를 호출하는 쪽에서도 한 번에 여러 값을 변수에 저장 할 수 있다.\n",
    "\n",
    "balance = 0 # 초기 잔액\n",
    "balance = deposit(balance, 1000) # 1000원 입금\n",
    "\n",
    "# 출금\n",
    "# balance = withdraw(balance, 2000) # 2,000 원 출금 시도 -> 잔액보다 많이 출금하려고 해서 실패\n",
    "# balance = withdraw(balance, 500) # 500원 출금 시도\n",
    "\n",
    "# 업무 시간 외 출금 시도\n",
    "commission, balance = withdraw_night(balance, 500)\n",
    "print(\"수수료 {0}원이며, 잔액은 {1}원입니다.\".format(commission, balance))"
   ]
  },
  {
   "cell_type": "code",
   "execution_count": null,
   "metadata": {},
   "outputs": [],
   "source": []
  }
 ],
 "metadata": {
  "kernelspec": {
   "display_name": "Python 3",
   "language": "python",
   "name": "python3"
  },
  "language_info": {
   "codemirror_mode": {
    "name": "ipython",
    "version": 3
   },
   "file_extension": ".py",
   "mimetype": "text/x-python",
   "name": "python",
   "nbconvert_exporter": "python",
   "pygments_lexer": "ipython3",
   "version": "3.11.0"
  }
 },
 "nbformat": 4,
 "nbformat_minor": 2
}
